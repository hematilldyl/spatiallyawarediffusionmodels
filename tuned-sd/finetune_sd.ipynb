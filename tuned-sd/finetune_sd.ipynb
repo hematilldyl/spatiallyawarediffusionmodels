{
  "cells": [
    {
      "cell_type": "code",
      "execution_count": null,
      "metadata": {},
      "outputs": [],
      "source": [
        "from huggingface_hub import notebook_login\n",
        "\n",
        "notebook_login()"
      ]
    },
    {
      "cell_type": "code",
      "execution_count": null,
      "metadata": {
        "id": "tRJ-oKpyXT-H"
      },
      "outputs": [],
      "source": [
        "! pip install -r /content/requirements.txt\n",
        "! pip install git+https://github.com/huggingface/diffusers\n",
        "\n",
        "import os\n",
        "os.environ['MODEL_NAME'] = 'runwayml/stable-diffusion-v1-5'\n",
        "os.environ['dataset_name'] = 'drewtray/vsr'"
      ]
    },
    {
      "cell_type": "code",
      "execution_count": null,
      "metadata": {
        "id": "_297srs3Wzs-"
      },
      "outputs": [],
      "source": [
        "! wandb online\n",
        "! accelerate launch train_text_to_image.py \\\n",
        "  --pretrained_model_name_or_path=$MODEL_NAME \\\n",
        "  --dataset_name=$dataset_name \\\n",
        "  --use_ema \\\n",
        "  --resolution=512 \\\n",
        "  --train_batch_size=1 \\\n",
        "  --gradient_accumulation_steps=4 \\\n",
        "  --gradient_checkpointing \\\n",
        "  --mixed_precision=\"fp16\" \\\n",
        "  --max_train_steps=15000 \\\n",
        "  --learning_rate=1e-05 \\\n",
        "  --max_grad_norm=1 \\\n",
        "  --lr_scheduler=\"constant\" \\\n",
        "  --lr_warmup_steps=0 \\\n",
        "  --output_dir=\"drewtray/vsr-finetuned\" \\\n",
        "  --report_to=\"wandb\""
      ]
    }
  ],
  "metadata": {
    "accelerator": "GPU",
    "colab": {
      "gpuType": "A100",
      "machine_shape": "hm",
      "provenance": []
    },
    "kernelspec": {
      "display_name": "Python 3",
      "name": "python3"
    },
    "language_info": {
      "name": "python"
    }
  },
  "nbformat": 4,
  "nbformat_minor": 0
}
