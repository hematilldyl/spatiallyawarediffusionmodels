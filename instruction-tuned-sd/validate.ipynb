{
  "cells": [
    {
      "cell_type": "code",
      "execution_count": null,
      "metadata": {
        "id": "A4arI1siOHXs"
      },
      "outputs": [],
      "source": [
        "!pip install diffusers\n",
        "\n",
        "import torch\n",
        "from diffusers import StableDiffusionInstructPix2PixPipeline\n",
        "from PIL import Image"
      ]
    },
    {
      "cell_type": "code",
      "execution_count": null,
      "metadata": {},
      "outputs": [],
      "source": [
        "def create_pipeline(model_id):\n",
        "    return StableDiffusionInstructPix2PixPipeline.from_pretrained(\n",
        "        model_id,\n",
        "        torch_dtype=torch.float16,\n",
        "        safety_checker=None\n",
        "    ).to(\"cuda\")\n",
        "\n",
        "pipeline_1 = create_pipeline('drewtray/sd-spatial-finetuned')\n",
        "pipeline_2 = create_pipeline('timbrooks/instruct-pix2pix')"
      ]
    },
    {
      "cell_type": "code",
      "execution_count": null,
      "metadata": {},
      "outputs": [],
      "source": [
        "def load_image(image_path):\n",
        "    return Image.open(image_path).convert('RGB')\n",
        "\n",
        "image_path = '/content/LR.jpeg'\n",
        "example_image = load_image(image_path)"
      ]
    },
    {
      "cell_type": "code",
      "execution_count": null,
      "metadata": {},
      "outputs": [],
      "source": [
        "def generate_images(pipeline, edit_prompt, example_image, num_inference_steps=50, text_guidance_scales=[7], image_guidance_scales=[1.5]):\n",
        "    generated_images = []\n",
        "    for text_scale in text_guidance_scales:\n",
        "        for image_scale in image_guidance_scales:\n",
        "            print('Text scale: ', text_scale)\n",
        "            print('Image scale: ', image_scale)\n",
        "            generator = [torch.Generator(device=\"cuda\").manual_seed(i) for i in range(1)]\n",
        "            image = pipeline(edit_prompt,\n",
        "                              generator=generator,\n",
        "                              image=example_image,\n",
        "                              num_inference_steps=num_inference_steps,\n",
        "                              guidance_scale=text_scale,\n",
        "                              image_guidance_scale=image_scale).images[0]\n",
        "            display(image)"
      ]
    },
    {
      "cell_type": "code",
      "execution_count": null,
      "metadata": {
        "id": "X5H0RtGBNt1e"
      },
      "outputs": [],
      "source": [
        "generate_images(\n",
        "                pipeline_1,\n",
        "                'Turn the walls green',\n",
        "                example_image,\n",
        "                text_guidance_scales=[1, 2, 4, 8, 16],\n",
        "                image_guidance_scales=[1, 2, 4, 8, 16],\n",
        "                )"
      ]
    },
    {
      "cell_type": "code",
      "execution_count": null,
      "metadata": {
        "id": "oVV0KdSiPoZV"
      },
      "outputs": [],
      "source": [
        "generate_images(\n",
        "                pipeline_2,\n",
        "                'Turn the walls green',\n",
        "                example_image,\n",
        "                text_guidance_scales=[1, 2, 4, 8, 16],\n",
        "                image_guidance_scales=[1, 2, 4, 8, 16],\n",
        "                )"
      ]
    }
  ],
  "metadata": {
    "accelerator": "GPU",
    "colab": {
      "gpuType": "V100",
      "provenance": []
    },
    "kernelspec": {
      "display_name": "Python 3",
      "name": "python3"
    },
    "language_info": {
      "codemirror_mode": {
        "name": "ipython",
        "version": 3
      },
      "file_extension": ".py",
      "mimetype": "text/x-python",
      "name": "python",
      "nbconvert_exporter": "python",
      "pygments_lexer": "ipython3",
      "version": "3.9.6"
    }
  },
  "nbformat": 4,
  "nbformat_minor": 0
}
