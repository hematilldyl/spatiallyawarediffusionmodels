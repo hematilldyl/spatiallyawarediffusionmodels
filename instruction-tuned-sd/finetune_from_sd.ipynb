{
  "cells": [
    {
      "cell_type": "code",
      "execution_count": null,
      "metadata": {
        "id": "X8gUN0TkWQZv"
      },
      "outputs": [],
      "source": [
        "from huggingface_hub import notebook_login\n",
        "\n",
        "notebook_login()"
      ]
    },
    {
      "cell_type": "code",
      "execution_count": null,
      "metadata": {
        "id": "LOSY3ZgnWQZz"
      },
      "outputs": [],
      "source": [
        "!pip install -r /content/requirements.txt\n",
        "\n",
        "import os\n",
        "os.environ['MODEL_ID'] = \"drewtray/sd-vsr-finetuned\"\n",
        "os.environ['DATASET_ID'] = \"drewtray/instructpix2pix-spatial\"\n",
        "os.environ['OUTPUT_DIR'] = \"sd-spatial-finetuned\""
      ]
    },
    {
      "cell_type": "code",
      "execution_count": null,
      "metadata": {
        "id": "IGaBdYA_WQZz"
      },
      "outputs": [],
      "source": [
        "! accelerate launch --mixed_precision=\"fp16\" train_instruct_pix2pix.py \\\n",
        "--pretrained_model_name_or_path=$MODEL_ID \\\n",
        "--dataset_name=$DATASET_ID \\\n",
        "--use_ema \\\n",
        "--resolution=256 \\\n",
        "--train_batch_size=64 \\\n",
        "--gradient_accumulation_steps=4 \\\n",
        "--gradient_checkpointing \\\n",
        "--max_train_steps=2000 \\\n",
        "--checkpointing_steps=500 \\\n",
        "--checkpoints_total_limit=1 \\\n",
        "--learning_rate=5e-04 \\\n",
        "--lr_warmup_steps=0 \\\n",
        "--mixed_precision=fp16 \\\n",
        "--val_image_url=\"http://images.cocodataset.org/train2017/000000262118.jpg\" \\\n",
        "--validation_prompt=\"Move the bed away from the bench\" \\\n",
        "--seed=42 \\\n",
        "--output_dir=$OUTPUT_DIR \\\n",
        "--report_to=wandb \\\n",
        "--push_to_hub \\\n",
        "--original_image_column=\"original_image\" \\\n",
        "--edited_image_column=\"transformed_image\" \\\n",
        "--edit_prompt_column=\"edit_prompt\" \\\n",
        "--image_guidance_scale=2.75 \\\n",
        "--num_inference_steps=75\n",
        "# --enable_xformers_memory_efficient_attention"
      ]
    }
  ],
  "metadata": {
    "accelerator": "GPU",
    "colab": {
      "gpuType": "A100",
      "machine_shape": "hm",
      "provenance": []
    },
    "kernelspec": {
      "display_name": "Python 3",
      "name": "python3"
    },
    "language_info": {
      "name": "python"
    }
  },
  "nbformat": 4,
  "nbformat_minor": 0
}
